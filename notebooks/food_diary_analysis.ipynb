{
 "cells": [
  {
   "cell_type": "code",
   "execution_count": 1,
   "metadata": {},
   "outputs": [],
   "source": [
    "%load_ext autoreload\n",
    "%autoreload 2\n",
    "\n",
    "# imports\n",
    "import pandas as pd\n",
    "import datetime\n",
    "\n",
    "# data viz\n",
    "import seaborn as sns\n",
    "import matplotlib as mpl\n",
    "import matplotlib.pyplot as plt\n",
    "%matplotlib inline\n",
    "\n",
    "import sys, os\n",
    "home_directory = '/home/matthew'\n",
    "sys.path.append(home_directory+'/food-diary-analysis/lib')\n",
    "from pipeline_components import pipeline_components as pc\n",
    "from pipelines import pipelines as pipes\n"
   ]
  },
  {
   "cell_type": "markdown",
   "metadata": {},
   "source": [
    "## Read in raw data"
   ]
  },
  {
   "cell_type": "code",
   "execution_count": 2,
   "metadata": {},
   "outputs": [
    {
     "data": {
      "text/html": [
       "<div>\n",
       "<style scoped>\n",
       "    .dataframe tbody tr th:only-of-type {\n",
       "        vertical-align: middle;\n",
       "    }\n",
       "\n",
       "    .dataframe tbody tr th {\n",
       "        vertical-align: top;\n",
       "    }\n",
       "\n",
       "    .dataframe thead th {\n",
       "        text-align: right;\n",
       "    }\n",
       "</style>\n",
       "<table border=\"1\" class=\"dataframe\">\n",
       "  <thead>\n",
       "    <tr style=\"text-align: right;\">\n",
       "      <th></th>\n",
       "      <th>meal_ingredients</th>\n",
       "      <th>date</th>\n",
       "      <th>time</th>\n",
       "      <th>discomfort</th>\n",
       "    </tr>\n",
       "  </thead>\n",
       "  <tbody>\n",
       "    <tr>\n",
       "      <th>0</th>\n",
       "      <td>wheat, sugar, onion, garlic, chicken, peas, co...</td>\n",
       "      <td>April 18 2021</td>\n",
       "      <td>5:30 PM</td>\n",
       "      <td>3</td>\n",
       "    </tr>\n",
       "    <tr>\n",
       "      <th>1</th>\n",
       "      <td>rice, sugar, garlic, roast, peas, carrot</td>\n",
       "      <td>April 20 2021</td>\n",
       "      <td>11:35 AM</td>\n",
       "      <td>4</td>\n",
       "    </tr>\n",
       "    <tr>\n",
       "      <th>2</th>\n",
       "      <td>rice, sugar, garlic, roast, peas, carrot</td>\n",
       "      <td>April 21 2021</td>\n",
       "      <td>5:35 PM</td>\n",
       "      <td>4</td>\n",
       "    </tr>\n",
       "  </tbody>\n",
       "</table>\n",
       "</div>"
      ],
      "text/plain": [
       "                                    meal_ingredients           date      time  \\\n",
       "0  wheat, sugar, onion, garlic, chicken, peas, co...  April 18 2021   5:30 PM   \n",
       "1           rice, sugar, garlic, roast, peas, carrot  April 20 2021  11:35 AM   \n",
       "2           rice, sugar, garlic, roast, peas, carrot  April 21 2021   5:35 PM   \n",
       "\n",
       "   discomfort  \n",
       "0           3  \n",
       "1           4  \n",
       "2           4  "
      ]
     },
     "execution_count": 2,
     "metadata": {},
     "output_type": "execute_result"
    }
   ],
   "source": [
    "# read in full drop data\n",
    "filepath = '../data/'\n",
    "filename = 'test_data.csv'\n",
    "raw_food_diary = pd.read_csv(filepath+filename, skiprows=1)\n",
    "\n",
    "# double check data frame\n",
    "raw_food_diary"
   ]
  },
  {
   "cell_type": "code",
   "execution_count": 3,
   "metadata": {},
   "outputs": [
    {
     "data": {
      "text/plain": [
       "meal_ingredients    object\n",
       "date                object\n",
       "time                object\n",
       "discomfort           int64\n",
       "dtype: object"
      ]
     },
     "execution_count": 3,
     "metadata": {},
     "output_type": "execute_result"
    }
   ],
   "source": [
    "raw_food_diary.dtypes"
   ]
  },
  {
   "cell_type": "code",
   "execution_count": 4,
   "metadata": {},
   "outputs": [
    {
     "data": {
      "text/plain": [
       "meal_ingredients    0\n",
       "date                0\n",
       "time                0\n",
       "discomfort          0\n",
       "dtype: int64"
      ]
     },
     "execution_count": 4,
     "metadata": {},
     "output_type": "execute_result"
    }
   ],
   "source": [
    "raw_food_diary.isnull().sum()"
   ]
  },
  {
   "cell_type": "markdown",
   "metadata": {},
   "source": [
    "## Preliminary data cleanup pipeline"
   ]
  },
  {
   "cell_type": "code",
   "execution_count": 5,
   "metadata": {},
   "outputs": [],
   "source": [
    "prelim_food_diary = raw_food_diary.copy()"
   ]
  },
  {
   "cell_type": "code",
   "execution_count": 6,
   "metadata": {},
   "outputs": [],
   "source": [
    "pipeline = pipes.GenericPipeline(\n",
    "    prelim_food_diary,\n",
    "    [\n",
    "        (\n",
    "            pc.ConvertDateAndTimeToDatetime, \n",
    "            {}\n",
    "        ),\n",
    "        (\n",
    "            pc.DropColumns,\n",
    "            {\"columns_to_drop\": ['date', 'time']}\n",
    "        )\n",
    "    ]\n",
    ")"
   ]
  },
  {
   "cell_type": "code",
   "execution_count": 7,
   "metadata": {
    "scrolled": true
   },
   "outputs": [
    {
     "name": "stdout",
     "output_type": "stream",
     "text": [
      "Starting to run pipeline...\n",
      "Finished running pipeline...\n"
     ]
    }
   ],
   "source": [
    "prelim_food_diary = pipeline.run()"
   ]
  },
  {
   "cell_type": "code",
   "execution_count": 8,
   "metadata": {},
   "outputs": [
    {
     "data": {
      "text/html": [
       "<div>\n",
       "<style scoped>\n",
       "    .dataframe tbody tr th:only-of-type {\n",
       "        vertical-align: middle;\n",
       "    }\n",
       "\n",
       "    .dataframe tbody tr th {\n",
       "        vertical-align: top;\n",
       "    }\n",
       "\n",
       "    .dataframe thead th {\n",
       "        text-align: right;\n",
       "    }\n",
       "</style>\n",
       "<table border=\"1\" class=\"dataframe\">\n",
       "  <thead>\n",
       "    <tr style=\"text-align: right;\">\n",
       "      <th></th>\n",
       "      <th>meal_ingredients</th>\n",
       "      <th>discomfort</th>\n",
       "      <th>datetime</th>\n",
       "    </tr>\n",
       "  </thead>\n",
       "  <tbody>\n",
       "    <tr>\n",
       "      <th>0</th>\n",
       "      <td>wheat, sugar, onion, garlic, chicken, peas, co...</td>\n",
       "      <td>3</td>\n",
       "      <td>2021-04-18 17:30:00-04:00</td>\n",
       "    </tr>\n",
       "    <tr>\n",
       "      <th>1</th>\n",
       "      <td>rice, sugar, garlic, roast, peas, carrot</td>\n",
       "      <td>4</td>\n",
       "      <td>2021-04-20 11:35:00-04:00</td>\n",
       "    </tr>\n",
       "    <tr>\n",
       "      <th>2</th>\n",
       "      <td>rice, sugar, garlic, roast, peas, carrot</td>\n",
       "      <td>4</td>\n",
       "      <td>2021-04-21 17:35:00-04:00</td>\n",
       "    </tr>\n",
       "  </tbody>\n",
       "</table>\n",
       "</div>"
      ],
      "text/plain": [
       "                                    meal_ingredients  discomfort  \\\n",
       "0  wheat, sugar, onion, garlic, chicken, peas, co...           3   \n",
       "1           rice, sugar, garlic, roast, peas, carrot           4   \n",
       "2           rice, sugar, garlic, roast, peas, carrot           4   \n",
       "\n",
       "                   datetime  \n",
       "0 2021-04-18 17:30:00-04:00  \n",
       "1 2021-04-20 11:35:00-04:00  \n",
       "2 2021-04-21 17:35:00-04:00  "
      ]
     },
     "execution_count": 8,
     "metadata": {},
     "output_type": "execute_result"
    }
   ],
   "source": [
    "prelim_food_diary"
   ]
  },
  {
   "cell_type": "markdown",
   "metadata": {},
   "source": [
    "## Preliminary data visualizations"
   ]
  },
  {
   "cell_type": "code",
   "execution_count": 9,
   "metadata": {},
   "outputs": [
    {
     "data": {
      "text/plain": [
       "<matplotlib.axes._subplots.AxesSubplot at 0x7f10fbbdb390>"
      ]
     },
     "execution_count": 9,
     "metadata": {},
     "output_type": "execute_result"
    },
    {
     "data": {
      "image/png": "[encoded data removed]",
      "text/plain": [
       "<Figure size 432x288 with 1 Axes>"
      ]
     },
     "metadata": {
      "needs_background": "light"
     },
     "output_type": "display_data"
    }
   ],
   "source": [
    "# histogram of meal times per hour\n",
    "# TODO, maybe could make this better\n",
    "# see: https://stackoverflow.com/questions/15478256/histogram-with-time-bins-from-datetime-vector\n",
    "# and https://stackoverflow.com/questions/8369584/plot-histogram-of-datetime-time-python-matplotlib\n",
    "(\n",
    "    prelim_food_diary\n",
    "    .drop(['meal_ingredients', 'discomfort'], axis=1)\n",
    "    .groupby(prelim_food_diary[\"datetime\"].dt.hour)\n",
    "    .count()\n",
    "    .plot(kind=\"bar\", legend=False, xlim=[0, 24])\n",
    ")"
   ]
  },
  {
   "cell_type": "markdown",
   "metadata": {},
   "source": [
    "## Main pipeline"
   ]
  },
  {
   "cell_type": "code",
   "execution_count": 120,
   "metadata": {},
   "outputs": [
    {
     "data": {
      "text/html": [
       "<div>\n",
       "<style scoped>\n",
       "    .dataframe tbody tr th:only-of-type {\n",
       "        vertical-align: middle;\n",
       "    }\n",
       "\n",
       "    .dataframe tbody tr th {\n",
       "        vertical-align: top;\n",
       "    }\n",
       "\n",
       "    .dataframe thead th {\n",
       "        text-align: right;\n",
       "    }\n",
       "</style>\n",
       "<table border=\"1\" class=\"dataframe\">\n",
       "  <thead>\n",
       "    <tr style=\"text-align: right;\">\n",
       "      <th></th>\n",
       "      <th>meal_ingredients</th>\n",
       "      <th>discomfort</th>\n",
       "      <th>datetime</th>\n",
       "    </tr>\n",
       "  </thead>\n",
       "  <tbody>\n",
       "    <tr>\n",
       "      <th>0</th>\n",
       "      <td>wheat, sugar, onion, garlic, chicken, peas, co...</td>\n",
       "      <td>3</td>\n",
       "      <td>2021-04-18 17:30:00-04:00</td>\n",
       "    </tr>\n",
       "    <tr>\n",
       "      <th>1</th>\n",
       "      <td>rice, sugar, garlic, roast, peas, carrot</td>\n",
       "      <td>4</td>\n",
       "      <td>2021-04-20 11:35:00-04:00</td>\n",
       "    </tr>\n",
       "    <tr>\n",
       "      <th>2</th>\n",
       "      <td>rice, sugar, garlic, roast, peas, carrot</td>\n",
       "      <td>4</td>\n",
       "      <td>2021-04-21 17:35:00-04:00</td>\n",
       "    </tr>\n",
       "  </tbody>\n",
       "</table>\n",
       "</div>"
      ],
      "text/plain": [
       "                                    meal_ingredients  discomfort  \\\n",
       "0  wheat, sugar, onion, garlic, chicken, peas, co...           3   \n",
       "1           rice, sugar, garlic, roast, peas, carrot           4   \n",
       "2           rice, sugar, garlic, roast, peas, carrot           4   \n",
       "\n",
       "                   datetime  \n",
       "0 2021-04-18 17:30:00-04:00  \n",
       "1 2021-04-20 11:35:00-04:00  \n",
       "2 2021-04-21 17:35:00-04:00  "
      ]
     },
     "execution_count": 120,
     "metadata": {},
     "output_type": "execute_result"
    }
   ],
   "source": [
    "final_food_diary = prelim_food_diary.copy()\n",
    "final_food_diary"
   ]
  },
  {
   "cell_type": "code",
   "execution_count": 121,
   "metadata": {},
   "outputs": [],
   "source": [
    "pipeline = pipes.GenericPipeline(\n",
    "    final_food_diary,\n",
    "    [\n",
    "        (\n",
    "            pc.ConvertStringColumnToListOfStrings,\n",
    "            {\"column_to_convert\": \"meal_ingredients\"}\n",
    "        ),\n",
    "        (\n",
    "            pc.ExplodeColumn,\n",
    "            {\"column_to_explode\": \"meal_ingredients\"}\n",
    "        ),\n",
    "        (\n",
    "            pc.RenameColumns,\n",
    "            {\"rename_map\": {\"meal_ingredients\": \"ingredient\"}}\n",
    "        ),\n",
    "        (\n",
    "            pc.CalculateMeanAndStdDevOfColumn,\n",
    "            {\n",
    "                \"columns_to_groupby\": [\"ingredient\"],\n",
    "                \"column_to_aggregate\": \"discomfort\"\n",
    "            }\n",
    "        )\n",
    "    ]\n",
    ")"
   ]
  },
  {
   "cell_type": "code",
   "execution_count": 122,
   "metadata": {},
   "outputs": [
    {
     "name": "stdout",
     "output_type": "stream",
     "text": [
      "Starting to run pipeline...\n",
      "Finished running pipeline...\n"
     ]
    }
   ],
   "source": [
    "final_food_diary = pipeline.run()"
   ]
  },
  {
   "cell_type": "code",
   "execution_count": 123,
   "metadata": {},
   "outputs": [
    {
     "data": {
      "text/html": [
       "<div>\n",
       "<style scoped>\n",
       "    .dataframe tbody tr th:only-of-type {\n",
       "        vertical-align: middle;\n",
       "    }\n",
       "\n",
       "    .dataframe tbody tr th {\n",
       "        vertical-align: top;\n",
       "    }\n",
       "\n",
       "    .dataframe thead th {\n",
       "        text-align: right;\n",
       "    }\n",
       "</style>\n",
       "<table border=\"1\" class=\"dataframe\">\n",
       "  <thead>\n",
       "    <tr style=\"text-align: right;\">\n",
       "      <th></th>\n",
       "      <th>ingredient</th>\n",
       "      <th>discomfort_mean</th>\n",
       "      <th>discomfort_std</th>\n",
       "      <th>discomfort_count</th>\n",
       "    </tr>\n",
       "  </thead>\n",
       "  <tbody>\n",
       "    <tr>\n",
       "      <th>0</th>\n",
       "      <td>carrot</td>\n",
       "      <td>4.000000</td>\n",
       "      <td>0.00000</td>\n",
       "      <td>2</td>\n",
       "    </tr>\n",
       "    <tr>\n",
       "      <th>1</th>\n",
       "      <td>chicken</td>\n",
       "      <td>3.000000</td>\n",
       "      <td>NaN</td>\n",
       "      <td>1</td>\n",
       "    </tr>\n",
       "    <tr>\n",
       "      <th>2</th>\n",
       "      <td>corn syrup</td>\n",
       "      <td>3.000000</td>\n",
       "      <td>NaN</td>\n",
       "      <td>1</td>\n",
       "    </tr>\n",
       "    <tr>\n",
       "      <th>3</th>\n",
       "      <td>garlic</td>\n",
       "      <td>3.666667</td>\n",
       "      <td>0.57735</td>\n",
       "      <td>3</td>\n",
       "    </tr>\n",
       "    <tr>\n",
       "      <th>4</th>\n",
       "      <td>lemon</td>\n",
       "      <td>3.000000</td>\n",
       "      <td>NaN</td>\n",
       "      <td>1</td>\n",
       "    </tr>\n",
       "    <tr>\n",
       "      <th>5</th>\n",
       "      <td>onion</td>\n",
       "      <td>3.000000</td>\n",
       "      <td>NaN</td>\n",
       "      <td>1</td>\n",
       "    </tr>\n",
       "    <tr>\n",
       "      <th>6</th>\n",
       "      <td>peas</td>\n",
       "      <td>3.666667</td>\n",
       "      <td>0.57735</td>\n",
       "      <td>3</td>\n",
       "    </tr>\n",
       "    <tr>\n",
       "      <th>7</th>\n",
       "      <td>rice</td>\n",
       "      <td>4.000000</td>\n",
       "      <td>0.00000</td>\n",
       "      <td>2</td>\n",
       "    </tr>\n",
       "    <tr>\n",
       "      <th>8</th>\n",
       "      <td>roast</td>\n",
       "      <td>4.000000</td>\n",
       "      <td>0.00000</td>\n",
       "      <td>2</td>\n",
       "    </tr>\n",
       "    <tr>\n",
       "      <th>9</th>\n",
       "      <td>sugar</td>\n",
       "      <td>3.666667</td>\n",
       "      <td>0.57735</td>\n",
       "      <td>3</td>\n",
       "    </tr>\n",
       "    <tr>\n",
       "      <th>10</th>\n",
       "      <td>wheat</td>\n",
       "      <td>3.000000</td>\n",
       "      <td>NaN</td>\n",
       "      <td>1</td>\n",
       "    </tr>\n",
       "  </tbody>\n",
       "</table>\n",
       "</div>"
      ],
      "text/plain": [
       "    ingredient  discomfort_mean  discomfort_std  discomfort_count\n",
       "0       carrot         4.000000         0.00000                 2\n",
       "1      chicken         3.000000             NaN                 1\n",
       "2   corn syrup         3.000000             NaN                 1\n",
       "3       garlic         3.666667         0.57735                 3\n",
       "4        lemon         3.000000             NaN                 1\n",
       "5        onion         3.000000             NaN                 1\n",
       "6         peas         3.666667         0.57735                 3\n",
       "7         rice         4.000000         0.00000                 2\n",
       "8        roast         4.000000         0.00000                 2\n",
       "9        sugar         3.666667         0.57735                 3\n",
       "10       wheat         3.000000             NaN                 1"
      ]
     },
     "execution_count": 123,
     "metadata": {},
     "output_type": "execute_result"
    }
   ],
   "source": [
    "final_food_diary"
   ]
  },
  {
   "cell_type": "code",
   "execution_count": null,
   "metadata": {},
   "outputs": [],
   "source": [
    "\n",
    "# TODO orderby component"
   ]
  },
  {
   "cell_type": "code",
   "execution_count": null,
   "metadata": {},
   "outputs": [],
   "source": []
  },
  {
   "cell_type": "code",
   "execution_count": null,
   "metadata": {},
   "outputs": [],
   "source": []
  },
  {
   "cell_type": "code",
   "execution_count": null,
   "metadata": {},
   "outputs": [],
   "source": []
  },
  {
   "cell_type": "code",
   "execution_count": null,
   "metadata": {},
   "outputs": [],
   "source": []
  },
  {
   "cell_type": "code",
   "execution_count": null,
   "metadata": {},
   "outputs": [],
   "source": []
  },
  {
   "cell_type": "code",
   "execution_count": null,
   "metadata": {},
   "outputs": [],
   "source": []
  },
  {
   "cell_type": "code",
   "execution_count": null,
   "metadata": {},
   "outputs": [],
   "source": []
  },
  {
   "cell_type": "code",
   "execution_count": null,
   "metadata": {},
   "outputs": [],
   "source": []
  },
  {
   "cell_type": "code",
   "execution_count": null,
   "metadata": {},
   "outputs": [],
   "source": []
  },
  {
   "cell_type": "code",
   "execution_count": null,
   "metadata": {},
   "outputs": [],
   "source": []
  },
  {
   "cell_type": "code",
   "execution_count": null,
   "metadata": {},
   "outputs": [],
   "source": []
  },
  {
   "cell_type": "code",
   "execution_count": null,
   "metadata": {},
   "outputs": [],
   "source": []
  },
  {
   "cell_type": "code",
   "execution_count": null,
   "metadata": {},
   "outputs": [],
   "source": []
  },
  {
   "cell_type": "code",
   "execution_count": null,
   "metadata": {},
   "outputs": [],
   "source": []
  }
 ],
 "metadata": {
  "kernelspec": {
   "display_name": "Python 3",
   "language": "python",
   "name": "python3"
  },
  "language_info": {
   "codemirror_mode": {
    "name": "ipython",
    "version": 3
   },
   "file_extension": ".py",
   "mimetype": "text/x-python",
   "name": "python",
   "nbconvert_exporter": "python",
   "pygments_lexer": "ipython3",
   "version": "3.7.3"
  }
 },
 "nbformat": 4,
 "nbformat_minor": 2
}
